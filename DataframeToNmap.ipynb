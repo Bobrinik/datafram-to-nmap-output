{
  "nbformat": 4,
  "nbformat_minor": 0,
  "metadata": {
    "colab": {
      "name": "DataframeToNmap.ipynb",
      "provenance": [],
      "authorship_tag": "ABX9TyPCJWiOb5FX+dBc+0lQEXsz",
      "include_colab_link": true
    },
    "kernelspec": {
      "name": "python3",
      "display_name": "Python 3"
    },
    "language_info": {
      "name": "python"
    }
  },
  "cells": [
    {
      "cell_type": "markdown",
      "metadata": {
        "id": "view-in-github",
        "colab_type": "text"
      },
      "source": [
        "<a href=\"https://colab.research.google.com/github/Bobrinik/datafram-to-nmap-output/blob/main/DataframeToNmap.ipynb\" target=\"_parent\"><img src=\"https://colab.research.google.com/assets/colab-badge.svg\" alt=\"Open In Colab\"/></a>"
      ]
    },
    {
      "cell_type": "code",
      "execution_count": null,
      "metadata": {
        "id": "lYZgZjP7YQDQ"
      },
      "outputs": [],
      "source": [
        ""
      ]
    }
  ]
}